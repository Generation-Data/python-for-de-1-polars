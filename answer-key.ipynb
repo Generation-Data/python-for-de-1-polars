{
 "cells": [
  {
   "cell_type": "code",
   "execution_count": null,
   "metadata": {},
   "outputs": [],
   "source": [
    "import polars as pl"
   ]
  },
  {
   "cell_type": "markdown",
   "metadata": {},
   "source": [
    "## Basic Functions\n",
    "\n",
    "Let's explore the main data-frame level operations:\n",
    "\n",
    "- `select()`\n",
    "- `filter()`\n",
    "- `with_columns`\n",
    "- `group_by` + `agg`\n",
    "- `concat()`\n",
    "- `union()`\n",
    "\n",
    "We'll start with a toy dataset because this is a great way to play and debug easily."
   ]
  },
  {
   "cell_type": "code",
   "execution_count": null,
   "metadata": {},
   "outputs": [],
   "source": [
    "df = pl.DataFrame({\n",
    "    'a': [1,1,1,2,2,2],\n",
    "    'b': [1,2,3,4,5,6],\n",
    "    'c': [7,8,9,0,1,2]\n",
    "})"
   ]
  },
  {
   "cell_type": "code",
   "execution_count": null,
   "metadata": {},
   "outputs": [],
   "source": [
    "df.select('a','b')"
   ]
  },
  {
   "cell_type": "code",
   "execution_count": null,
   "metadata": {},
   "outputs": [],
   "source": [
    "df.filter( pl.col('c') > 5)"
   ]
  },
  {
   "cell_type": "code",
   "execution_count": null,
   "metadata": {},
   "outputs": [],
   "source": [
    "df.with_columns(\n",
    "    x = pl.col('a') + 7,\n",
    "    y = pl.col('a') * pl.col('b'), \n",
    "    z = pl.col('c').min()\n",
    ")"
   ]
  },
  {
   "cell_type": "code",
   "execution_count": null,
   "metadata": {},
   "outputs": [],
   "source": [
    "df.group_by('a').agg( pl.col('b').sum() )"
   ]
  },
  {
   "cell_type": "code",
   "execution_count": null,
   "metadata": {},
   "outputs": [],
   "source": [
    "df.group_by('a').agg( \n",
    "    pl.col('b').sum(),\n",
    "    pl.col('b').mean().alias('b_avg') \n",
    "    )"
   ]
  },
  {
   "cell_type": "code",
   "execution_count": null,
   "metadata": {},
   "outputs": [],
   "source": [
    "pl.concat([df, df])"
   ]
  },
  {
   "cell_type": "code",
   "execution_count": null,
   "metadata": {},
   "outputs": [],
   "source": [
    "df2 = pl.DataFrame({'a': [1,2], 'x': ['a==1','a==2']})\n",
    "df.join(df2, how = \"left\", on = 'a')"
   ]
  },
  {
   "cell_type": "markdown",
   "metadata": {},
   "source": [
    "## Method Chaining"
   ]
  },
  {
   "cell_type": "code",
   "execution_count": null,
   "metadata": {},
   "outputs": [],
   "source": [
    "(\n",
    "    df\n",
    "    .filter( pl.col('c') != 9)\n",
    "    .with_columns( a = pl.col('a') + 1 )\n",
    "    .group_by('a')\n",
    "    .agg( pl.col('b').sum() )\n",
    ")"
   ]
  },
  {
   "cell_type": "markdown",
   "metadata": {},
   "source": [
    "## Aggregation"
   ]
  },
  {
   "cell_type": "code",
   "execution_count": null,
   "metadata": {},
   "outputs": [],
   "source": [
    "df.select( pl.col('b').sum() )"
   ]
  },
  {
   "cell_type": "code",
   "execution_count": null,
   "metadata": {},
   "outputs": [],
   "source": [
    "df.group_by('a').agg( pl.col('b').sum() )"
   ]
  },
  {
   "cell_type": "code",
   "execution_count": null,
   "metadata": {},
   "outputs": [],
   "source": [
    "df.with_columns(pl.col('b').sum().over('a').alias('b_sum'))"
   ]
  },
  {
   "cell_type": "markdown",
   "metadata": {},
   "source": [
    "## Case Study: Total EV by County\n",
    "\n",
    "Using GA early vote data, count the number of early votes by county. "
   ]
  },
  {
   "cell_type": "markdown",
   "metadata": {},
   "source": [
    "What are the key steps?\n",
    "\n",
    "1. Read in the data\n",
    "2. Inspect the data\n",
    "3. Group the data by county\n",
    "4. Count the votes"
   ]
  },
  {
   "cell_type": "code",
   "execution_count": null,
   "metadata": {},
   "outputs": [],
   "source": [
    "df_ev = pl.read_csv(\"GA_Early_Vote - GA_Early_Vote.csv\")\n",
    "df_ev.glimpse() \n",
    "# you can also use df_ev.head() but I find glimpse() better for 'wide' data"
   ]
  },
  {
   "cell_type": "code",
   "execution_count": null,
   "metadata": {},
   "outputs": [],
   "source": [
    "(\n",
    "    df_ev\n",
    "    .group_by('vb_vf_county_name')\n",
    "    .agg( pl.col('voterbase_id').count() )\n",
    "    .head(5)\n",
    ")"
   ]
  },
  {
   "cell_type": "markdown",
   "metadata": {},
   "source": [
    "## Derived Fields\n",
    "\n",
    "Within `with_columns()`, you can create one or more unique variables."
   ]
  },
  {
   "cell_type": "code",
   "execution_count": null,
   "metadata": {},
   "outputs": [],
   "source": [
    "(\n",
    "    df\n",
    "    .with_columns(\n",
    "        b_low_high = pl.when( pl.col('b') < 4 )\n",
    "                       .then( pl.lit('low') )\n",
    "                       .otherwise( pl.lit('high') ),\n",
    "        c_recode   = pl.col('c').replace({'0': None})        \n",
    "    )\n",
    ")"
   ]
  },
  {
   "cell_type": "markdown",
   "metadata": {},
   "source": [
    "There are many useful helpful functions for this such as:\n",
    "\n",
    "- Conditional Logic:\n",
    "  + pl.when().then().otherwise()\n",
    "  + pl.replace({'from':'to'})\n",
    "\n",
    "- [String Manipulation](https://docs.pola.rs/api/python/stable/reference/expressions/string.html):\n",
    "  + str.slice() \n",
    "  + str.split()\n",
    "  + str.to_date() / str.striptime()\n",
    "  + str.upper() / str.lower()\n",
    "\n",
    "- Date Manipulation:\n",
    "  + date() to construct dates\n",
    "  + dt.year() / month() / day() to extract date parts\n",
    "  + dt.strftime() to change date formatting"
   ]
  },
  {
   "cell_type": "code",
   "execution_count": null,
   "metadata": {},
   "outputs": [],
   "source": [
    "df2 = pl.DataFrame({'a': ['apple','banana','carrot'], 'b': ['20200101','20200102','20200103']})\n",
    "df2.with_columns(\n",
    "    a_abbr = pl.col('a').str.slice(0,3),\n",
    "    b_date = pl.col('b').str.to_date('%Y%m%d')\n",
    ")"
   ]
  },
  {
   "cell_type": "markdown",
   "metadata": {},
   "source": [
    "If you're using variables you just created, you'll need to do it in a separate call to `with_columns()`."
   ]
  },
  {
   "cell_type": "code",
   "execution_count": null,
   "metadata": {},
   "outputs": [],
   "source": [
    "# doesn't work\n",
    "# df.with_columns(x = pl.col('a'), y = pl.col('x') + 1)\n",
    "\n",
    "# works\n",
    "(\n",
    "df\n",
    "  .with_columns(x = pl.col('a'))\n",
    "  .with_columns(y = pl.col('x') + 1)\n",
    ")"
   ]
  },
  {
   "cell_type": "markdown",
   "metadata": {},
   "source": [
    "## Case Study: Top EV County in July\n",
    "\n",
    "What 3 counties had the highest number of votes by or before July 31?"
   ]
  },
  {
   "cell_type": "code",
   "execution_count": null,
   "metadata": {},
   "outputs": [],
   "source": [
    "df_ev.glimpse()"
   ]
  },
  {
   "cell_type": "markdown",
   "metadata": {},
   "source": [
    "Let's breakdown the steps of what we need to do:\n",
    "\n",
    "- Filter the data to only the date range of interest\n",
    "  + Convert `august_primary_voted_date` to a sortable YYYY-MM-DD date field\n",
    "  + Subset results to those with a value less than 2024-07-22\n",
    "- Summarize the number of voters per day by each county\n",
    "  + Which type of aggregation? We want **one row per county**\n",
    "- Sort by the voter count, starting with the largest\n",
    "- Subset results to the top 3"
   ]
  },
  {
   "cell_type": "code",
   "execution_count": null,
   "metadata": {},
   "outputs": [],
   "source": [
    "(\n",
    "    df_ev\n",
    "    .filter(\n",
    "        pl.col('aug_primary_voted_date').str.to_date('%m/%d/%Y') \n",
    "          <= pl.date(2024,7,31)\n",
    "        )\n",
    "    .group_by('vb_vf_county_name')\n",
    "    .agg( pl.col('voterbase_id').n_unique().alias('n') )\n",
    "    .sort('n', descending = True)\n",
    "    .head(3)\n",
    ")"
   ]
  },
  {
   "cell_type": "markdown",
   "metadata": {},
   "source": [
    "## Window Functions"
   ]
  },
  {
   "cell_type": "code",
   "execution_count": null,
   "metadata": {},
   "outputs": [],
   "source": [
    "df.with_columns(\n",
    "    c_max_by_a = pl.col('c').max().over('a'),\n",
    "    b_cum_by_a = pl.col('b').cum_sum().over('a'),\n",
    "    b_cum_by_a_sort_c = pl.col('b').sort_by('c', descending=True).cum_sum().over('a')\n",
    ")"
   ]
  },
  {
   "cell_type": "markdown",
   "metadata": {},
   "source": [
    "## Column Name Selectors"
   ]
  },
  {
   "cell_type": "code",
   "execution_count": null,
   "metadata": {},
   "outputs": [],
   "source": [
    "df4 = pl.DataFrame({\n",
    "    'voter_id': [123,234,345,456],\n",
    "    'dt_register': ['2024-01-01','2023-05-07','2023-12-12','2021-01-07'],\n",
    "    'dt_dob': ['1953-01-01','1968-05-07','1993-12-12','2000-01-07'],\n",
    "})"
   ]
  },
  {
   "cell_type": "code",
   "execution_count": null,
   "metadata": {},
   "outputs": [],
   "source": [
    "import polars.selectors as cs\n",
    "\n",
    "df4.with_columns(\n",
    "  cs.starts_with('dt').str.to_date()\n",
    ")"
   ]
  },
  {
   "cell_type": "code",
   "execution_count": null,
   "metadata": {},
   "outputs": [],
   "source": [
    "df4.with_columns(\n",
    "  cs.string().str.to_date()\n",
    ")"
   ]
  },
  {
   "cell_type": "code",
   "execution_count": null,
   "metadata": {},
   "outputs": [],
   "source": [
    "df4.with_columns(\n",
    "  cs.starts_with('dt').str.to_date() ,\n",
    "  cs.starts_with('dt').str.to_date().dt.year().name.prefix('year_')\n",
    ")"
   ]
  },
  {
   "cell_type": "markdown",
   "metadata": {},
   "source": [
    "## API Response Wrangling"
   ]
  },
  {
   "cell_type": "code",
   "execution_count": null,
   "metadata": {},
   "outputs": [],
   "source": [
    "example_api_response = [\n",
    "    {\n",
    "        'name': 'Voter 1',\n",
    "        'dob': '1990-10-25',\n",
    "        'voter_info': {\n",
    "            'precinct': 123,\n",
    "            'state_hd': 2,\n",
    "            'state_sen': 10,\n",
    "            'us_hd': 40\n",
    "        }\n",
    "    },\n",
    "    {\n",
    "        'name': 'Voter 2',\n",
    "        'dob': '1953-02-10',\n",
    "        'voter_info': {\n",
    "            'precinct': 456,\n",
    "            'state_hd': 7,\n",
    "            'state_sen': 11,\n",
    "            'us_hd': 42\n",
    "        }\n",
    "    }\n",
    "]\n",
    "\n",
    "example_api_response"
   ]
  },
  {
   "cell_type": "code",
   "execution_count": null,
   "metadata": {},
   "outputs": [],
   "source": [
    "pl.DataFrame(example_api_response)"
   ]
  },
  {
   "cell_type": "code",
   "execution_count": null,
   "metadata": {},
   "outputs": [],
   "source": [
    "pl.DataFrame(example_api_response).unnest('voter_info')"
   ]
  },
  {
   "cell_type": "markdown",
   "metadata": {},
   "source": [
    "## Case Study: Vote Counting Accumulation Rate\n",
    "\n",
    "For all counties, calculate the cumulative percent of their early vote obtained each day, so that day n's value is:\n",
    "\n",
    "`prop = (sum votes from day 1 to day n) / (total votes)`\n",
    "\n",
    "Then, show the day-by-day results for Fulton County and create a list of the counties ordered by the date they hit 50%."
   ]
  },
  {
   "cell_type": "markdown",
   "metadata": {},
   "source": [
    "What do we need to do?\n",
    "\n",
    "- Create one table with the cumulative proportion to use in the subsequent queries\n",
    "  + Calculate votes by day by county\n",
    "  + Calculate cumulative votes over the days within each county \n",
    "  + Calculate ultimate total votes for each county\n",
    "  + Use the above two fields to calculate the cumulative proportion\n",
    "\n",
    "- Use the table to show results for Fulton county\n",
    "  + Filter to Fulton county\n",
    "  + Sort results by day\n",
    "\n",
    "- Use the table to list counties by the day they crossed 50%\n",
    "  + Filter to where the proportion is >50%\n",
    "  + Group by county\n",
    "  + Find the minimum date\n",
    "  + Order results by the minimum date"
   ]
  },
  {
   "cell_type": "code",
   "execution_count": null,
   "metadata": {},
   "outputs": [],
   "source": [
    "df_cumul = (\n",
    "    df_ev\n",
    "    .with_columns( pl.col('aug_primary_voted_date').str.to_date('%m/%d/%Y') )\n",
    "    .group_by('aug_primary_voted_date', 'vb_vf_county_name')\n",
    "    .agg( n = pl.col('voterbase_id').n_unique() )\n",
    "    .with_columns(\n",
    "        cum_n = pl.col('n').cum_sum().over(\n",
    "                                partition_by = 'vb_vf_county_name',\n",
    "                                order_by = 'aug_primary_voted_date'),\n",
    "        tot_n = pl.col('n').sum().over('vb_vf_county_name')\n",
    "    )\n",
    "    .with_columns(\n",
    "        prop = pl.col('cum_n') / pl.col('tot_n')\n",
    "    )\n",
    "\n",
    ")"
   ]
  },
  {
   "cell_type": "code",
   "execution_count": null,
   "metadata": {},
   "outputs": [],
   "source": [
    "(\n",
    "  df_cumul\n",
    "  .filter(pl.col('vb_vf_county_name') == pl.lit('FULTON'))\n",
    "  .sort('aug_primary_voted_date')\n",
    ")"
   ]
  },
  {
   "cell_type": "code",
   "execution_count": null,
   "metadata": {},
   "outputs": [],
   "source": [
    "(\n",
    "  df_cumul\n",
    "  .filter( pl.col('prop') >= 0.5 )\n",
    "  .group_by('vb_vf_county_name')\n",
    "  .agg( pl.col('aug_primary_voted_date').min() )\n",
    "  .sort('aug_primary_voted_date')\n",
    ")"
   ]
  }
 ],
 "metadata": {
  "kernelspec": {
   "display_name": ".venv",
   "language": "python",
   "name": "python3"
  },
  "language_info": {
   "codemirror_mode": {
    "name": "ipython",
    "version": 3
   },
   "file_extension": ".py",
   "mimetype": "text/x-python",
   "name": "python",
   "nbconvert_exporter": "python",
   "pygments_lexer": "ipython3",
   "version": "3.10.13"
  }
 },
 "nbformat": 4,
 "nbformat_minor": 2
}
