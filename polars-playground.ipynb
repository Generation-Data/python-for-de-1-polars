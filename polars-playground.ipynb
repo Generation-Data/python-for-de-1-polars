{
 "cells": [
  {
   "cell_type": "code",
   "execution_count": 15,
   "metadata": {},
   "outputs": [],
   "source": [
    "import polars as pl"
   ]
  },
  {
   "cell_type": "markdown",
   "metadata": {},
   "source": [
    "## Basic Functions\n",
    "\n",
    "Let's explore the main data-frame level operations:\n",
    "\n",
    "- `select()`\n",
    "- `filter()`\n",
    "- `with_columns`\n",
    "- `group_by` + `agg`\n",
    "- `concat()`\n",
    "- `union()`\n",
    "\n",
    "We'll start with a toy dataset because this is a great way to play and debug easily."
   ]
  },
  {
   "cell_type": "code",
   "execution_count": 16,
   "metadata": {},
   "outputs": [],
   "source": [
    "df = pl.DataFrame({\n",
    "    'a': [1,1,1,2,2,2],\n",
    "    'b': [1,2,3,4,5,6],\n",
    "    'c': [7,8,9,0,1,2]\n",
    "})"
   ]
  },
  {
   "cell_type": "code",
   "execution_count": 17,
   "metadata": {},
   "outputs": [
    {
     "data": {
      "text/html": [
       "<div><style>\n",
       ".dataframe > thead > tr,\n",
       ".dataframe > tbody > tr {\n",
       "  text-align: right;\n",
       "  white-space: pre-wrap;\n",
       "}\n",
       "</style>\n",
       "<small>shape: (6, 2)</small><table border=\"1\" class=\"dataframe\"><thead><tr><th>a</th><th>b</th></tr><tr><td>i64</td><td>i64</td></tr></thead><tbody><tr><td>1</td><td>1</td></tr><tr><td>1</td><td>2</td></tr><tr><td>1</td><td>3</td></tr><tr><td>2</td><td>4</td></tr><tr><td>2</td><td>5</td></tr><tr><td>2</td><td>6</td></tr></tbody></table></div>"
      ],
      "text/plain": [
       "shape: (6, 2)\n",
       "┌─────┬─────┐\n",
       "│ a   ┆ b   │\n",
       "│ --- ┆ --- │\n",
       "│ i64 ┆ i64 │\n",
       "╞═════╪═════╡\n",
       "│ 1   ┆ 1   │\n",
       "│ 1   ┆ 2   │\n",
       "│ 1   ┆ 3   │\n",
       "│ 2   ┆ 4   │\n",
       "│ 2   ┆ 5   │\n",
       "│ 2   ┆ 6   │\n",
       "└─────┴─────┘"
      ]
     },
     "execution_count": 17,
     "metadata": {},
     "output_type": "execute_result"
    }
   ],
   "source": [
    "df.select('a','b')"
   ]
  },
  {
   "cell_type": "code",
   "execution_count": 18,
   "metadata": {},
   "outputs": [
    {
     "data": {
      "text/html": [
       "<div><style>\n",
       ".dataframe > thead > tr,\n",
       ".dataframe > tbody > tr {\n",
       "  text-align: right;\n",
       "  white-space: pre-wrap;\n",
       "}\n",
       "</style>\n",
       "<small>shape: (3, 3)</small><table border=\"1\" class=\"dataframe\"><thead><tr><th>a</th><th>b</th><th>c</th></tr><tr><td>i64</td><td>i64</td><td>i64</td></tr></thead><tbody><tr><td>1</td><td>1</td><td>7</td></tr><tr><td>1</td><td>2</td><td>8</td></tr><tr><td>1</td><td>3</td><td>9</td></tr></tbody></table></div>"
      ],
      "text/plain": [
       "shape: (3, 3)\n",
       "┌─────┬─────┬─────┐\n",
       "│ a   ┆ b   ┆ c   │\n",
       "│ --- ┆ --- ┆ --- │\n",
       "│ i64 ┆ i64 ┆ i64 │\n",
       "╞═════╪═════╪═════╡\n",
       "│ 1   ┆ 1   ┆ 7   │\n",
       "│ 1   ┆ 2   ┆ 8   │\n",
       "│ 1   ┆ 3   ┆ 9   │\n",
       "└─────┴─────┴─────┘"
      ]
     },
     "execution_count": 18,
     "metadata": {},
     "output_type": "execute_result"
    }
   ],
   "source": [
    "df.filter( pl.col('c') > 5)"
   ]
  },
  {
   "cell_type": "code",
   "execution_count": 19,
   "metadata": {},
   "outputs": [
    {
     "data": {
      "text/html": [
       "<div><style>\n",
       ".dataframe > thead > tr,\n",
       ".dataframe > tbody > tr {\n",
       "  text-align: right;\n",
       "  white-space: pre-wrap;\n",
       "}\n",
       "</style>\n",
       "<small>shape: (6, 6)</small><table border=\"1\" class=\"dataframe\"><thead><tr><th>a</th><th>b</th><th>c</th><th>x</th><th>y</th><th>z</th></tr><tr><td>i64</td><td>i64</td><td>i64</td><td>i64</td><td>i64</td><td>i64</td></tr></thead><tbody><tr><td>1</td><td>1</td><td>7</td><td>8</td><td>1</td><td>0</td></tr><tr><td>1</td><td>2</td><td>8</td><td>8</td><td>2</td><td>0</td></tr><tr><td>1</td><td>3</td><td>9</td><td>8</td><td>3</td><td>0</td></tr><tr><td>2</td><td>4</td><td>0</td><td>9</td><td>8</td><td>0</td></tr><tr><td>2</td><td>5</td><td>1</td><td>9</td><td>10</td><td>0</td></tr><tr><td>2</td><td>6</td><td>2</td><td>9</td><td>12</td><td>0</td></tr></tbody></table></div>"
      ],
      "text/plain": [
       "shape: (6, 6)\n",
       "┌─────┬─────┬─────┬─────┬─────┬─────┐\n",
       "│ a   ┆ b   ┆ c   ┆ x   ┆ y   ┆ z   │\n",
       "│ --- ┆ --- ┆ --- ┆ --- ┆ --- ┆ --- │\n",
       "│ i64 ┆ i64 ┆ i64 ┆ i64 ┆ i64 ┆ i64 │\n",
       "╞═════╪═════╪═════╪═════╪═════╪═════╡\n",
       "│ 1   ┆ 1   ┆ 7   ┆ 8   ┆ 1   ┆ 0   │\n",
       "│ 1   ┆ 2   ┆ 8   ┆ 8   ┆ 2   ┆ 0   │\n",
       "│ 1   ┆ 3   ┆ 9   ┆ 8   ┆ 3   ┆ 0   │\n",
       "│ 2   ┆ 4   ┆ 0   ┆ 9   ┆ 8   ┆ 0   │\n",
       "│ 2   ┆ 5   ┆ 1   ┆ 9   ┆ 10  ┆ 0   │\n",
       "│ 2   ┆ 6   ┆ 2   ┆ 9   ┆ 12  ┆ 0   │\n",
       "└─────┴─────┴─────┴─────┴─────┴─────┘"
      ]
     },
     "execution_count": 19,
     "metadata": {},
     "output_type": "execute_result"
    }
   ],
   "source": [
    "df.with_columns(\n",
    "    x = pl.col('a') + 7,\n",
    "    y = pl.col('a') * pl.col('b'), \n",
    "    z = pl.col('c').min()\n",
    ")"
   ]
  },
  {
   "cell_type": "code",
   "execution_count": 20,
   "metadata": {},
   "outputs": [
    {
     "data": {
      "text/html": [
       "<div><style>\n",
       ".dataframe > thead > tr,\n",
       ".dataframe > tbody > tr {\n",
       "  text-align: right;\n",
       "  white-space: pre-wrap;\n",
       "}\n",
       "</style>\n",
       "<small>shape: (2, 2)</small><table border=\"1\" class=\"dataframe\"><thead><tr><th>a</th><th>b</th></tr><tr><td>i64</td><td>i64</td></tr></thead><tbody><tr><td>1</td><td>6</td></tr><tr><td>2</td><td>15</td></tr></tbody></table></div>"
      ],
      "text/plain": [
       "shape: (2, 2)\n",
       "┌─────┬─────┐\n",
       "│ a   ┆ b   │\n",
       "│ --- ┆ --- │\n",
       "│ i64 ┆ i64 │\n",
       "╞═════╪═════╡\n",
       "│ 1   ┆ 6   │\n",
       "│ 2   ┆ 15  │\n",
       "└─────┴─────┘"
      ]
     },
     "execution_count": 20,
     "metadata": {},
     "output_type": "execute_result"
    }
   ],
   "source": [
    "df.group_by('a').agg( pl.col('b').sum() )"
   ]
  },
  {
   "cell_type": "code",
   "execution_count": 21,
   "metadata": {},
   "outputs": [
    {
     "data": {
      "text/html": [
       "<div><style>\n",
       ".dataframe > thead > tr,\n",
       ".dataframe > tbody > tr {\n",
       "  text-align: right;\n",
       "  white-space: pre-wrap;\n",
       "}\n",
       "</style>\n",
       "<small>shape: (2, 3)</small><table border=\"1\" class=\"dataframe\"><thead><tr><th>a</th><th>b</th><th>b_avg</th></tr><tr><td>i64</td><td>i64</td><td>f64</td></tr></thead><tbody><tr><td>2</td><td>15</td><td>5.0</td></tr><tr><td>1</td><td>6</td><td>2.0</td></tr></tbody></table></div>"
      ],
      "text/plain": [
       "shape: (2, 3)\n",
       "┌─────┬─────┬───────┐\n",
       "│ a   ┆ b   ┆ b_avg │\n",
       "│ --- ┆ --- ┆ ---   │\n",
       "│ i64 ┆ i64 ┆ f64   │\n",
       "╞═════╪═════╪═══════╡\n",
       "│ 2   ┆ 15  ┆ 5.0   │\n",
       "│ 1   ┆ 6   ┆ 2.0   │\n",
       "└─────┴─────┴───────┘"
      ]
     },
     "execution_count": 21,
     "metadata": {},
     "output_type": "execute_result"
    }
   ],
   "source": [
    "df.group_by('a').agg( \n",
    "    pl.col('b').sum(),\n",
    "    pl.col('b').mean().alias('b_avg') \n",
    "    )"
   ]
  },
  {
   "cell_type": "code",
   "execution_count": 22,
   "metadata": {},
   "outputs": [
    {
     "data": {
      "text/html": [
       "<div><style>\n",
       ".dataframe > thead > tr,\n",
       ".dataframe > tbody > tr {\n",
       "  text-align: right;\n",
       "  white-space: pre-wrap;\n",
       "}\n",
       "</style>\n",
       "<small>shape: (12, 3)</small><table border=\"1\" class=\"dataframe\"><thead><tr><th>a</th><th>b</th><th>c</th></tr><tr><td>i64</td><td>i64</td><td>i64</td></tr></thead><tbody><tr><td>1</td><td>1</td><td>7</td></tr><tr><td>1</td><td>2</td><td>8</td></tr><tr><td>1</td><td>3</td><td>9</td></tr><tr><td>2</td><td>4</td><td>0</td></tr><tr><td>2</td><td>5</td><td>1</td></tr><tr><td>2</td><td>6</td><td>2</td></tr><tr><td>1</td><td>1</td><td>7</td></tr><tr><td>1</td><td>2</td><td>8</td></tr><tr><td>1</td><td>3</td><td>9</td></tr><tr><td>2</td><td>4</td><td>0</td></tr><tr><td>2</td><td>5</td><td>1</td></tr><tr><td>2</td><td>6</td><td>2</td></tr></tbody></table></div>"
      ],
      "text/plain": [
       "shape: (12, 3)\n",
       "┌─────┬─────┬─────┐\n",
       "│ a   ┆ b   ┆ c   │\n",
       "│ --- ┆ --- ┆ --- │\n",
       "│ i64 ┆ i64 ┆ i64 │\n",
       "╞═════╪═════╪═════╡\n",
       "│ 1   ┆ 1   ┆ 7   │\n",
       "│ 1   ┆ 2   ┆ 8   │\n",
       "│ 1   ┆ 3   ┆ 9   │\n",
       "│ 2   ┆ 4   ┆ 0   │\n",
       "│ …   ┆ …   ┆ …   │\n",
       "│ 1   ┆ 3   ┆ 9   │\n",
       "│ 2   ┆ 4   ┆ 0   │\n",
       "│ 2   ┆ 5   ┆ 1   │\n",
       "│ 2   ┆ 6   ┆ 2   │\n",
       "└─────┴─────┴─────┘"
      ]
     },
     "execution_count": 22,
     "metadata": {},
     "output_type": "execute_result"
    }
   ],
   "source": [
    "pl.concat([df, df])"
   ]
  },
  {
   "cell_type": "code",
   "execution_count": 23,
   "metadata": {},
   "outputs": [
    {
     "data": {
      "text/html": [
       "<div><style>\n",
       ".dataframe > thead > tr,\n",
       ".dataframe > tbody > tr {\n",
       "  text-align: right;\n",
       "  white-space: pre-wrap;\n",
       "}\n",
       "</style>\n",
       "<small>shape: (6, 4)</small><table border=\"1\" class=\"dataframe\"><thead><tr><th>a</th><th>b</th><th>c</th><th>x</th></tr><tr><td>i64</td><td>i64</td><td>i64</td><td>str</td></tr></thead><tbody><tr><td>1</td><td>1</td><td>7</td><td>&quot;a==1&quot;</td></tr><tr><td>1</td><td>2</td><td>8</td><td>&quot;a==1&quot;</td></tr><tr><td>1</td><td>3</td><td>9</td><td>&quot;a==1&quot;</td></tr><tr><td>2</td><td>4</td><td>0</td><td>&quot;a==2&quot;</td></tr><tr><td>2</td><td>5</td><td>1</td><td>&quot;a==2&quot;</td></tr><tr><td>2</td><td>6</td><td>2</td><td>&quot;a==2&quot;</td></tr></tbody></table></div>"
      ],
      "text/plain": [
       "shape: (6, 4)\n",
       "┌─────┬─────┬─────┬──────┐\n",
       "│ a   ┆ b   ┆ c   ┆ x    │\n",
       "│ --- ┆ --- ┆ --- ┆ ---  │\n",
       "│ i64 ┆ i64 ┆ i64 ┆ str  │\n",
       "╞═════╪═════╪═════╪══════╡\n",
       "│ 1   ┆ 1   ┆ 7   ┆ a==1 │\n",
       "│ 1   ┆ 2   ┆ 8   ┆ a==1 │\n",
       "│ 1   ┆ 3   ┆ 9   ┆ a==1 │\n",
       "│ 2   ┆ 4   ┆ 0   ┆ a==2 │\n",
       "│ 2   ┆ 5   ┆ 1   ┆ a==2 │\n",
       "│ 2   ┆ 6   ┆ 2   ┆ a==2 │\n",
       "└─────┴─────┴─────┴──────┘"
      ]
     },
     "execution_count": 23,
     "metadata": {},
     "output_type": "execute_result"
    }
   ],
   "source": [
    "df2 = pl.DataFrame({'a': [1,2], 'x': ['a==1','a==2']})\n",
    "df.join(df2, how = \"left\", on = 'a')"
   ]
  },
  {
   "cell_type": "markdown",
   "metadata": {},
   "source": [
    "## Method Chaining"
   ]
  },
  {
   "cell_type": "code",
   "execution_count": 24,
   "metadata": {},
   "outputs": [
    {
     "data": {
      "text/html": [
       "<div><style>\n",
       ".dataframe > thead > tr,\n",
       ".dataframe > tbody > tr {\n",
       "  text-align: right;\n",
       "  white-space: pre-wrap;\n",
       "}\n",
       "</style>\n",
       "<small>shape: (2, 2)</small><table border=\"1\" class=\"dataframe\"><thead><tr><th>a</th><th>b</th></tr><tr><td>i64</td><td>i64</td></tr></thead><tbody><tr><td>3</td><td>15</td></tr><tr><td>2</td><td>3</td></tr></tbody></table></div>"
      ],
      "text/plain": [
       "shape: (2, 2)\n",
       "┌─────┬─────┐\n",
       "│ a   ┆ b   │\n",
       "│ --- ┆ --- │\n",
       "│ i64 ┆ i64 │\n",
       "╞═════╪═════╡\n",
       "│ 3   ┆ 15  │\n",
       "│ 2   ┆ 3   │\n",
       "└─────┴─────┘"
      ]
     },
     "execution_count": 24,
     "metadata": {},
     "output_type": "execute_result"
    }
   ],
   "source": [
    "(\n",
    "    df\n",
    "    .filter( pl.col('c') != 9)\n",
    "    .with_columns( a = pl.col('a') + 1 )\n",
    "    .group_by('a')\n",
    "    .agg( pl.col('b').sum() )\n",
    ")"
   ]
  },
  {
   "cell_type": "markdown",
   "metadata": {},
   "source": [
    "## Aggregation"
   ]
  },
  {
   "cell_type": "code",
   "execution_count": 25,
   "metadata": {},
   "outputs": [
    {
     "data": {
      "text/html": [
       "<div><style>\n",
       ".dataframe > thead > tr,\n",
       ".dataframe > tbody > tr {\n",
       "  text-align: right;\n",
       "  white-space: pre-wrap;\n",
       "}\n",
       "</style>\n",
       "<small>shape: (1, 1)</small><table border=\"1\" class=\"dataframe\"><thead><tr><th>b</th></tr><tr><td>i64</td></tr></thead><tbody><tr><td>21</td></tr></tbody></table></div>"
      ],
      "text/plain": [
       "shape: (1, 1)\n",
       "┌─────┐\n",
       "│ b   │\n",
       "│ --- │\n",
       "│ i64 │\n",
       "╞═════╡\n",
       "│ 21  │\n",
       "└─────┘"
      ]
     },
     "execution_count": 25,
     "metadata": {},
     "output_type": "execute_result"
    }
   ],
   "source": [
    "df.select( pl.col('b').sum() )"
   ]
  },
  {
   "cell_type": "code",
   "execution_count": 26,
   "metadata": {},
   "outputs": [
    {
     "data": {
      "text/html": [
       "<div><style>\n",
       ".dataframe > thead > tr,\n",
       ".dataframe > tbody > tr {\n",
       "  text-align: right;\n",
       "  white-space: pre-wrap;\n",
       "}\n",
       "</style>\n",
       "<small>shape: (2, 2)</small><table border=\"1\" class=\"dataframe\"><thead><tr><th>a</th><th>b</th></tr><tr><td>i64</td><td>i64</td></tr></thead><tbody><tr><td>2</td><td>15</td></tr><tr><td>1</td><td>6</td></tr></tbody></table></div>"
      ],
      "text/plain": [
       "shape: (2, 2)\n",
       "┌─────┬─────┐\n",
       "│ a   ┆ b   │\n",
       "│ --- ┆ --- │\n",
       "│ i64 ┆ i64 │\n",
       "╞═════╪═════╡\n",
       "│ 2   ┆ 15  │\n",
       "│ 1   ┆ 6   │\n",
       "└─────┴─────┘"
      ]
     },
     "execution_count": 26,
     "metadata": {},
     "output_type": "execute_result"
    }
   ],
   "source": [
    "df.group_by('a').agg( pl.col('b').sum() )"
   ]
  },
  {
   "cell_type": "code",
   "execution_count": 27,
   "metadata": {},
   "outputs": [
    {
     "data": {
      "text/html": [
       "<div><style>\n",
       ".dataframe > thead > tr,\n",
       ".dataframe > tbody > tr {\n",
       "  text-align: right;\n",
       "  white-space: pre-wrap;\n",
       "}\n",
       "</style>\n",
       "<small>shape: (6, 4)</small><table border=\"1\" class=\"dataframe\"><thead><tr><th>a</th><th>b</th><th>c</th><th>b_sum</th></tr><tr><td>i64</td><td>i64</td><td>i64</td><td>i64</td></tr></thead><tbody><tr><td>1</td><td>1</td><td>7</td><td>6</td></tr><tr><td>1</td><td>2</td><td>8</td><td>6</td></tr><tr><td>1</td><td>3</td><td>9</td><td>6</td></tr><tr><td>2</td><td>4</td><td>0</td><td>15</td></tr><tr><td>2</td><td>5</td><td>1</td><td>15</td></tr><tr><td>2</td><td>6</td><td>2</td><td>15</td></tr></tbody></table></div>"
      ],
      "text/plain": [
       "shape: (6, 4)\n",
       "┌─────┬─────┬─────┬───────┐\n",
       "│ a   ┆ b   ┆ c   ┆ b_sum │\n",
       "│ --- ┆ --- ┆ --- ┆ ---   │\n",
       "│ i64 ┆ i64 ┆ i64 ┆ i64   │\n",
       "╞═════╪═════╪═════╪═══════╡\n",
       "│ 1   ┆ 1   ┆ 7   ┆ 6     │\n",
       "│ 1   ┆ 2   ┆ 8   ┆ 6     │\n",
       "│ 1   ┆ 3   ┆ 9   ┆ 6     │\n",
       "│ 2   ┆ 4   ┆ 0   ┆ 15    │\n",
       "│ 2   ┆ 5   ┆ 1   ┆ 15    │\n",
       "│ 2   ┆ 6   ┆ 2   ┆ 15    │\n",
       "└─────┴─────┴─────┴───────┘"
      ]
     },
     "execution_count": 27,
     "metadata": {},
     "output_type": "execute_result"
    }
   ],
   "source": [
    "df.with_columns(pl.col('b').sum().over('a').alias('b_sum'))"
   ]
  },
  {
   "cell_type": "markdown",
   "metadata": {},
   "source": [
    "## Case Study: Total EV by County\n",
    "\n",
    "Using GA early vote data, count the number of early votes by county. "
   ]
  },
  {
   "cell_type": "markdown",
   "metadata": {},
   "source": [
    "What are the key steps?\n",
    "\n",
    "1. Read in the data\n",
    "2. Inspect the data\n",
    "3. Group the data by county\n",
    "4. Count the votes"
   ]
  },
  {
   "cell_type": "code",
   "execution_count": 28,
   "metadata": {},
   "outputs": [
    {
     "ename": "TypeError",
     "evalue": "read_csv() missing 1 required positional argument: 'source'",
     "output_type": "error",
     "traceback": [
      "\u001b[1;31m---------------------------------------------------------------------------\u001b[0m",
      "\u001b[1;31mTypeError\u001b[0m                                 Traceback (most recent call last)",
      "Cell \u001b[1;32mIn[28], line 1\u001b[0m\n\u001b[1;32m----> 1\u001b[0m df_ev \u001b[38;5;241m=\u001b[39m \u001b[43mpl\u001b[49m\u001b[38;5;241;43m.\u001b[39;49m\u001b[43mread_csv\u001b[49m\u001b[43m(\u001b[49m\u001b[43m)\u001b[49m \u001b[38;5;66;03m# TODO: ADD CSV NAME HERE\u001b[39;00m\n\u001b[0;32m      2\u001b[0m df_ev\u001b[38;5;241m.\u001b[39mglimpse() \n\u001b[0;32m      3\u001b[0m \u001b[38;5;66;03m# you can also use df_ev.head() but I find glimpse() better for 'wide' data\u001b[39;00m\n",
      "File \u001b[1;32mc:\\Users\\emily\\.pyenv\\pyenv-win\\versions\\3.11.0\\Lib\\site-packages\\polars\\utils\\deprecation.py:133\u001b[0m, in \u001b[0;36mdeprecate_renamed_parameter.<locals>.decorate.<locals>.wrapper\u001b[1;34m(*args, **kwargs)\u001b[0m\n\u001b[0;32m    128\u001b[0m \u001b[38;5;129m@wraps\u001b[39m(function)\n\u001b[0;32m    129\u001b[0m \u001b[38;5;28;01mdef\u001b[39;00m \u001b[38;5;21mwrapper\u001b[39m(\u001b[38;5;241m*\u001b[39margs: P\u001b[38;5;241m.\u001b[39margs, \u001b[38;5;241m*\u001b[39m\u001b[38;5;241m*\u001b[39mkwargs: P\u001b[38;5;241m.\u001b[39mkwargs) \u001b[38;5;241m-\u001b[39m\u001b[38;5;241m>\u001b[39m T:\n\u001b[0;32m    130\u001b[0m     _rename_keyword_argument(\n\u001b[0;32m    131\u001b[0m         old_name, new_name, kwargs, function\u001b[38;5;241m.\u001b[39m\u001b[38;5;18m__name__\u001b[39m, version\n\u001b[0;32m    132\u001b[0m     )\n\u001b[1;32m--> 133\u001b[0m     \u001b[38;5;28;01mreturn\u001b[39;00m \u001b[43mfunction\u001b[49m\u001b[43m(\u001b[49m\u001b[38;5;241;43m*\u001b[39;49m\u001b[43margs\u001b[49m\u001b[43m,\u001b[49m\u001b[43m \u001b[49m\u001b[38;5;241;43m*\u001b[39;49m\u001b[38;5;241;43m*\u001b[39;49m\u001b[43mkwargs\u001b[49m\u001b[43m)\u001b[49m\n",
      "File \u001b[1;32mc:\\Users\\emily\\.pyenv\\pyenv-win\\versions\\3.11.0\\Lib\\site-packages\\polars\\utils\\deprecation.py:133\u001b[0m, in \u001b[0;36mdeprecate_renamed_parameter.<locals>.decorate.<locals>.wrapper\u001b[1;34m(*args, **kwargs)\u001b[0m\n\u001b[0;32m    128\u001b[0m \u001b[38;5;129m@wraps\u001b[39m(function)\n\u001b[0;32m    129\u001b[0m \u001b[38;5;28;01mdef\u001b[39;00m \u001b[38;5;21mwrapper\u001b[39m(\u001b[38;5;241m*\u001b[39margs: P\u001b[38;5;241m.\u001b[39margs, \u001b[38;5;241m*\u001b[39m\u001b[38;5;241m*\u001b[39mkwargs: P\u001b[38;5;241m.\u001b[39mkwargs) \u001b[38;5;241m-\u001b[39m\u001b[38;5;241m>\u001b[39m T:\n\u001b[0;32m    130\u001b[0m     _rename_keyword_argument(\n\u001b[0;32m    131\u001b[0m         old_name, new_name, kwargs, function\u001b[38;5;241m.\u001b[39m\u001b[38;5;18m__name__\u001b[39m, version\n\u001b[0;32m    132\u001b[0m     )\n\u001b[1;32m--> 133\u001b[0m     \u001b[38;5;28;01mreturn\u001b[39;00m \u001b[43mfunction\u001b[49m\u001b[43m(\u001b[49m\u001b[38;5;241;43m*\u001b[39;49m\u001b[43margs\u001b[49m\u001b[43m,\u001b[49m\u001b[43m \u001b[49m\u001b[38;5;241;43m*\u001b[39;49m\u001b[38;5;241;43m*\u001b[39;49m\u001b[43mkwargs\u001b[49m\u001b[43m)\u001b[49m\n",
      "File \u001b[1;32mc:\\Users\\emily\\.pyenv\\pyenv-win\\versions\\3.11.0\\Lib\\site-packages\\polars\\utils\\deprecation.py:133\u001b[0m, in \u001b[0;36mdeprecate_renamed_parameter.<locals>.decorate.<locals>.wrapper\u001b[1;34m(*args, **kwargs)\u001b[0m\n\u001b[0;32m    128\u001b[0m \u001b[38;5;129m@wraps\u001b[39m(function)\n\u001b[0;32m    129\u001b[0m \u001b[38;5;28;01mdef\u001b[39;00m \u001b[38;5;21mwrapper\u001b[39m(\u001b[38;5;241m*\u001b[39margs: P\u001b[38;5;241m.\u001b[39margs, \u001b[38;5;241m*\u001b[39m\u001b[38;5;241m*\u001b[39mkwargs: P\u001b[38;5;241m.\u001b[39mkwargs) \u001b[38;5;241m-\u001b[39m\u001b[38;5;241m>\u001b[39m T:\n\u001b[0;32m    130\u001b[0m     _rename_keyword_argument(\n\u001b[0;32m    131\u001b[0m         old_name, new_name, kwargs, function\u001b[38;5;241m.\u001b[39m\u001b[38;5;18m__name__\u001b[39m, version\n\u001b[0;32m    132\u001b[0m     )\n\u001b[1;32m--> 133\u001b[0m     \u001b[38;5;28;01mreturn\u001b[39;00m \u001b[43mfunction\u001b[49m\u001b[43m(\u001b[49m\u001b[38;5;241;43m*\u001b[39;49m\u001b[43margs\u001b[49m\u001b[43m,\u001b[49m\u001b[43m \u001b[49m\u001b[38;5;241;43m*\u001b[39;49m\u001b[38;5;241;43m*\u001b[39;49m\u001b[43mkwargs\u001b[49m\u001b[43m)\u001b[49m\n",
      "\u001b[1;31mTypeError\u001b[0m: read_csv() missing 1 required positional argument: 'source'"
     ]
    }
   ],
   "source": [
    "df_ev = pl.read_csv() # TODO: ADD CSV NAME HERE\n",
    "df_ev.glimpse() \n",
    "# you can also use df_ev.head() but I find glimpse() better for 'wide' data"
   ]
  },
  {
   "cell_type": "code",
   "execution_count": null,
   "metadata": {},
   "outputs": [],
   "source": [
    "(\n",
    "    df_ev\n",
    "    .group_by( ) # TODO: NAME GROUPING VARIABLE\n",
    "    .agg( pl.col('voterbase_id') ) # TODO: ADD METHOD TO COUNT VALUES\n",
    "    .head(5)\n",
    ")"
   ]
  },
  {
   "cell_type": "markdown",
   "metadata": {},
   "source": [
    "## Derived Fields\n",
    "\n",
    "Within `with_columns()`, you can create one or more unique variables."
   ]
  },
  {
   "cell_type": "code",
   "execution_count": null,
   "metadata": {},
   "outputs": [],
   "source": [
    "(\n",
    "    df\n",
    "    .with_columns(\n",
    "        b_low_high = pl.when( pl.col('b') < 4 )\n",
    "                       .then( pl.lit('low') )\n",
    "                       .otherwise( pl.lit('high') ),\n",
    "        c_recode   = pl.col('c').replace({'0': None})        \n",
    "    )\n",
    ")"
   ]
  },
  {
   "cell_type": "markdown",
   "metadata": {},
   "source": [
    "There are many useful helpful functions for this such as:\n",
    "\n",
    "- Conditional Logic:\n",
    "  + pl.when().then().otherwise()\n",
    "  + pl.replace({'from':'to'})\n",
    "\n",
    "- [String Manipulation](https://docs.pola.rs/api/python/stable/reference/expressions/string.html):\n",
    "  + str.slice() \n",
    "  + str.split()\n",
    "  + str.to_date() / str.striptime()\n",
    "  + str.upper() / str.lower()\n",
    "\n",
    "- Date Manipulation:\n",
    "  + date() to construct dates\n",
    "  + dt.year() / month() / day() to extract date parts\n",
    "  + dt.strftime() to change date formatting"
   ]
  },
  {
   "cell_type": "code",
   "execution_count": null,
   "metadata": {},
   "outputs": [],
   "source": [
    "df2 = pl.DataFrame({'a': ['apple','banana','carrot'], 'b': ['20200101','20200102','20200103']})\n",
    "df2.with_columns(\n",
    "    a_abbr = pl.col('a').str.slice(0,3),\n",
    "    b_date = pl.col('b').str.to_date('%Y%m%d')\n",
    ")"
   ]
  },
  {
   "cell_type": "markdown",
   "metadata": {},
   "source": [
    "If you're using variables you just created, you'll need to do it in a separate call to `with_columns()`."
   ]
  },
  {
   "cell_type": "code",
   "execution_count": null,
   "metadata": {},
   "outputs": [],
   "source": [
    "# doesn't work\n",
    "# df.with_columns(x = pl.col('a'), y = pl.col('x') + 1)\n",
    "\n",
    "# works\n",
    "(\n",
    "df\n",
    "  .with_columns(x = pl.col('a'))\n",
    "  .with_columns(y = pl.col('x') + 1)\n",
    ")"
   ]
  },
  {
   "cell_type": "markdown",
   "metadata": {},
   "source": [
    "## Case Study: Top EV County in July\n",
    "\n",
    "What 3 counties had the highest number of votes by or before July 31?"
   ]
  },
  {
   "cell_type": "code",
   "execution_count": null,
   "metadata": {},
   "outputs": [],
   "source": [
    "df_ev.glimpse()"
   ]
  },
  {
   "cell_type": "markdown",
   "metadata": {},
   "source": [
    "Let's breakdown the steps of what we need to do:\n",
    "\n",
    "- Filter the data to only the date range of interest\n",
    "  + Convert `august_primary_voted_date` to a sortable YYYY-MM-DD date field\n",
    "  + Subset results to those with a value less than 2024-07-22\n",
    "- Summarize the number of voters per day by each county\n",
    "  + Which type of aggregation? We want **one row per county**\n",
    "- Sort by the voter count, starting with the largest\n",
    "- Subset results to the top 3"
   ]
  },
  {
   "cell_type": "code",
   "execution_count": null,
   "metadata": {},
   "outputs": [],
   "source": [
    "(\n",
    "    df_ev\n",
    "    .filter(\n",
    "        pl.col('aug_primary_voted_date').str.to_date('%m/%d/%Y') \n",
    "          <= pl.date(2024,7,31)\n",
    "        )\n",
    "    .group_by('vb_vf_county_name')\n",
    "    .agg( pl.col('voterbase_id').n_unique().alias('n') )\n",
    "    .sort('n', descending = True)\n",
    "    .head(3)\n",
    ")"
   ]
  },
  {
   "cell_type": "markdown",
   "metadata": {},
   "source": [
    "## Window Functions"
   ]
  },
  {
   "cell_type": "code",
   "execution_count": null,
   "metadata": {},
   "outputs": [],
   "source": [
    "df.with_columns(\n",
    "    c_max_by_a = pl.col('c').max().over('a'),\n",
    "    b_cum_by_a = pl.col('b').cum_sum().over('a'),\n",
    "    b_cum_by_a_sort_c = pl.col('b').sort_by('c', descending=True).cum_sum().over('a')\n",
    ")"
   ]
  },
  {
   "cell_type": "markdown",
   "metadata": {},
   "source": [
    "## Column Name Selectors"
   ]
  },
  {
   "cell_type": "code",
   "execution_count": null,
   "metadata": {},
   "outputs": [],
   "source": [
    "df4 = pl.DataFrame({\n",
    "    'voter_id': [123,234,345,456],\n",
    "    'dt_register': ['2024-01-01','2023-05-07','2023-12-12','2021-01-07'],\n",
    "    'dt_dob': ['1953-01-01','1968-05-07','1993-12-12','2000-01-07'],\n",
    "})"
   ]
  },
  {
   "cell_type": "code",
   "execution_count": null,
   "metadata": {},
   "outputs": [],
   "source": [
    "import polars.selectors as cs\n",
    "\n",
    "df4.with_columns(\n",
    "  cs.starts_with('dt').str.to_date()\n",
    ")"
   ]
  },
  {
   "cell_type": "code",
   "execution_count": null,
   "metadata": {},
   "outputs": [],
   "source": [
    "df4.with_columns(\n",
    "  cs.string().str.to_date()\n",
    ")"
   ]
  },
  {
   "cell_type": "code",
   "execution_count": null,
   "metadata": {},
   "outputs": [],
   "source": [
    "df4.with_columns(\n",
    "  cs.starts_with('dt').str.to_date() ,\n",
    "  cs.starts_with('dt').str.to_date().dt.year().name.prefix('year_')\n",
    ")"
   ]
  },
  {
   "cell_type": "markdown",
   "metadata": {},
   "source": [
    "## API Response Wrangling"
   ]
  },
  {
   "cell_type": "code",
   "execution_count": null,
   "metadata": {},
   "outputs": [],
   "source": [
    "example_api_response = [\n",
    "    {\n",
    "        'name': 'Voter 1',\n",
    "        'dob': '1990-10-25',\n",
    "        'voter_info': {\n",
    "            'precinct': 123,\n",
    "            'state_hd': 2,\n",
    "            'state_sen': 10,\n",
    "            'us_hd': 40\n",
    "        }\n",
    "    },\n",
    "    {\n",
    "        'name': 'Voter 2',\n",
    "        'dob': '1953-02-10',\n",
    "        'voter_info': {\n",
    "            'precinct': 456,\n",
    "            'state_hd': 7,\n",
    "            'state_sen': 11,\n",
    "            'us_hd': 42\n",
    "        }\n",
    "    }\n",
    "]\n",
    "\n",
    "example_api_response"
   ]
  },
  {
   "cell_type": "code",
   "execution_count": null,
   "metadata": {},
   "outputs": [],
   "source": [
    "pl.DataFrame(example_api_response)"
   ]
  },
  {
   "cell_type": "code",
   "execution_count": null,
   "metadata": {},
   "outputs": [],
   "source": [
    "pl.DataFrame(example_api_response).unnest('voter_info')"
   ]
  },
  {
   "cell_type": "markdown",
   "metadata": {},
   "source": [
    "## Case Study: Vote Counting Accumulation Rate\n",
    "\n",
    "For all counties, calculate the cumulative percent of their early vote obtained each day, so that day n's value is:\n",
    "\n",
    "`prop = (sum votes from day 1 to day n) / (total votes)`\n",
    "\n",
    "Then, show the day-by-day results for Fulton County and create a list of the counties ordered by the date they hit 50%."
   ]
  },
  {
   "cell_type": "markdown",
   "metadata": {},
   "source": [
    "What do we need to do?\n",
    "\n",
    "- Create one table with the cumulative proportion to use in the subsequent queries\n",
    "  + Calculate votes by day by county\n",
    "  + Calculate cumulative votes over the days within each county \n",
    "  + Calculate ultimate total votes for each county\n",
    "  + Use the above two fields to calculate the cumulative proportion\n",
    "\n",
    "- Use the table to show results for Fulton county\n",
    "  + Filter to Fulton county\n",
    "  + Sort results by day\n",
    "\n",
    "- Use the table to list counties by the day they crossed 50%\n",
    "  + Filter to where the proportion is >50%\n",
    "  + Group by county\n",
    "  + Find the minimum date\n",
    "  + Order results by the minimum date"
   ]
  },
  {
   "cell_type": "code",
   "execution_count": null,
   "metadata": {},
   "outputs": [],
   "source": [
    "df_cumul = (\n",
    "    df_ev\n",
    "    .with_columns( pl.col('aug_primary_voted_date').str.to_date('%m/%d/%Y') )\n",
    "    .group_by('aug_primary_voted_date', 'vb_vf_county_name')\n",
    "    .agg( n = pl.col('voterbase_id').n_unique() )\n",
    "    .with_columns(\n",
    "        cum_n = pl.col('n').cum_sum().over(), # TODO: specifiy partition_by and order_by arguments\n",
    "        tot_n = pl.col('n').sum().over('vb_vf_county_name')\n",
    "    )\n",
    "    .with_columns(\n",
    "        prop = # TODO: add logic for cumulative proportion\n",
    "    )\n",
    "\n",
    ")"
   ]
  },
  {
   "cell_type": "code",
   "execution_count": null,
   "metadata": {},
   "outputs": [],
   "source": [
    "# TODO: use resulting table to analyze Fulton county"
   ]
  },
  {
   "cell_type": "code",
   "execution_count": null,
   "metadata": {},
   "outputs": [],
   "source": [
    "# TODO: use resulting table to find which counties hit 50% fastest"
   ]
  }
 ],
 "metadata": {
  "kernelspec": {
   "display_name": ".venv",
   "language": "python",
   "name": "python3"
  },
  "language_info": {
   "codemirror_mode": {
    "name": "ipython",
    "version": 3
   },
   "file_extension": ".py",
   "mimetype": "text/x-python",
   "name": "python",
   "nbconvert_exporter": "python",
   "pygments_lexer": "ipython3",
   "version": "3.11.0"
  }
 },
 "nbformat": 4,
 "nbformat_minor": 2
}
